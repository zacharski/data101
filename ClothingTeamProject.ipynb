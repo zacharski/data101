{
 "cells": [
  {
   "cell_type": "markdown",
   "metadata": {},
   "source": [
    "# Team Challenge - Clothing\n",
    "\n",
    "# The Dataset\n",
    "\n",
    "\n",
    "The dataset consists of small 28x28 grayscale image icons of different articles of clothing. There are 60,000 images in the training set and 10,000 in the test set.\n",
    "\n",
    "\n",
    "![](http://zacharski.org/files/courses/cs419/clothes-sprite.png)\n",
    "![](http://zacharski.org/files/courses/cs419/clothing.gif)\n",
    "\n",
    "Each image has an associated label from a list of 10:\n",
    "\n",
    "\n",
    "| Label | Description |\n",
    "| --- | --- |\n",
    "| 0 | T-shirt/top |\n",
    "| 1 | Trouser |\n",
    "| 2 | Pullover |\n",
    "| 3 | Dress |\n",
    "| 4 | Coat |\n",
    "| 5 | Sandal |\n",
    "| 6 | Shirt |\n",
    "| 7 | Sneaker |\n",
    "| 8 | Bag |\n",
    "| 9 | Ankle boot |\n",
    "\n",
    "\n",
    "#### The files\n",
    "\n",
    "* Training set: [clothes_train.csv](http://zacharski.org/files/courses/cs419/clothes_train.csv)\n",
    "* Test set: [clothing_test.csv](http://zacharski.org/files/courses/cs419/clothing_test.csv) Note: Don't use the test set for training.\n",
    "\n",
    "\n",
    "## Task\n",
    "\n",
    "Using **any algorithm you want** (of the ones we have covered so far), your team is to construct an algorithm to label images. Once you have trained the model, use it to predict the labels on the test set.\n",
    "\n",
    "### Note\n",
    "Depending on the algorithm you select and the hyperparameters, training on the full training set might take 10 minutes or more. \n",
    "\n",
    "\n",
    "### Deliverables\n",
    "Send an email (one per team) to submit.o.bot@gmail.com\n",
    "\n",
    "* Subject line: cpsc419 Team x (replace x with your team number)  \n",
    "* Body of email: A few sentences about the approach used\n",
    "* 2 attachments\n",
    "    * the Python code\n",
    "    * the csv file of your predictions.\n",
    "    \n",
    "### Due\n",
    "\n",
    "* early bird submission: 23 October 1:45pm\n",
    "* FINAL submission: 25 October 1:45pm\n",
    "\n",
    "**Note** Each team can have an early bird submission and a FINAL submission\n",
    "\n",
    "### XP\n",
    "\n",
    "**TOTAL POSSIBLE**: 300xp\n",
    "\n",
    "\n",
    "#### Base XP for Final system\n",
    "\n",
    "* 50xp - accuracy < .80\n",
    "* 100xp - accuracy between .80 and .8683\n",
    "* Plus - ((accuracy - .861) * 100 + 1)**2.9 or max of 125 bonus\n",
    "\n",
    "\n",
    "#### Early Bird Bonus\n",
    "\n",
    "* +25 - most accurate early bird submission\n",
    "* +15 - second most accurate\n",
    "* +10 - third most accurate\n",
    "\n",
    "#### FINAL Bonus\n",
    "\n",
    "* +50 - most accurate\n",
    "* +35 - second most accurate\n",
    "* +25 - third most accurate\n",
    "\n",
    "Remember you are not to train on the test data. You can google for reference material but not for specific solutions to this problem.\n",
    "\n",
    "## Viewing an image\n",
    "If you are interested in seeing an image here is a function that will do so:"
   ]
  },
  {
   "cell_type": "code",
   "execution_count": null,
   "metadata": {},
   "outputs": [],
   "source": []
  },
  {
   "cell_type": "code",
   "execution_count": 3,
   "metadata": {},
   "outputs": [
    {
     "data": {
      "image/png": "[encoded data removed]",
      "text/plain": [
       "<Figure size 144x144 with 1 Axes>"
      ]
     },
     "metadata": {},
     "output_type": "display_data"
    }
   ],
   "source": [
    "from matplotlib import pyplot as plt\n",
    "import numpy as np\n",
    "\n",
    "def viewImage(x):\n",
    "    x1 = np.array(x)\n",
    "    x2 = x1[1:].reshape([28,28]).astype(np.uint8)\n",
    "    plt.figure(figsize=(2,2))\n",
    "    plt.imshow(x2, interpolation='nearest', cmap='gray')\n",
    "    plt.show()\n",
    "    \n",
    "viewImage(fashion.iloc[1])"
   ]
  },
  {
   "cell_type": "code",
   "execution_count": null,
   "metadata": {},
   "outputs": [],
   "source": []
  }
 ],
 "metadata": {
  "kernelspec": {
   "display_name": "Python 2",
   "language": "python",
   "name": "python2"
  },
  "language_info": {
   "codemirror_mode": {
    "name": "ipython",
    "version": 3
   },
   "file_extension": ".py",
   "mimetype": "text/x-python",
   "name": "python",
   "nbconvert_exporter": "python",
   "pygments_lexer": "ipython3",
   "version": "3.6.5"
  }
 },
 "nbformat": 4,
 "nbformat_minor": 2
}
